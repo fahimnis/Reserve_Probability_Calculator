{
 "cells": [
  {
   "cell_type": "markdown",
   "metadata": {},
   "source": [
    "# Reserve Probability Calculator\n",
    "\n",
    "This app can be used to calculate the probabity of reserves given a maximum and minimum estimate. It is **important** to set the hydrocarbon type at the beginning of the problem. Care must be taken when inputing the initial and final rates to make sure they are in the correct units. The compatible units are as follows:\n",
    "<br />\n",
    "<br />\n",
    "$$ Q_{oil} = \\frac {bbl}{month} $$\n",
    "<br />\n",
    "$$ Q_{gas} = \\frac {Mscf}{month} $$\n",
    "<br />\n",
    "Alternatively, you can input values directly from PHDWin. This app is made to be compatible with PHDWin. Inputing the values as they appear in the decline curve properties box in PHDWin will suffice. The app automatically converts De into the units required for the hyperbolic decline equation."
   ]
  },
  {
   "cell_type": "code",
   "execution_count": 11,
   "metadata": {},
   "outputs": [],
   "source": [
    "import numpy as np\n",
    "import math as m\n",
    "import pandas as pd\n",
    "import matplotlib.pyplot as plt\n",
    "from ipywidgets import BoundedFloatText,  interact,FloatSlider, Dropdown\n",
    "\n",
    "def reserve(qi,qf,b,d):\n",
    "    import numpy as np\n",
    "    \n",
    "    di = -np.log(1-d/100)/12\n",
    "    \n",
    "    Np = (qi**b)*(qi**(1-b)-qf**(1-b))/(di*(1-b))\n",
    "    \n",
    "    return Np\n",
    "\n",
    "def dca(qi,qf,b,d):\n",
    "    \n",
    "    import numpy as np\n",
    "    \n",
    "    di = -np.log(1-d/100)/12 \n",
    "    \n",
    "    tf = ((qi/qf)**b-1)/(b*di)\n",
    "    \n",
    "    t = np.linspace(0,tf,100)\n",
    "    q = np.zeros(len(t))\n",
    "    Np = np.zeros(len(t))\n",
    "    \n",
    "    for i,j in enumerate(t):\n",
    "        \n",
    "        with np.errstate(divide='ignore'):\n",
    "            \n",
    "            \n",
    "            q[i] = qi/((1+b*di*j)**(1/b)) \n",
    "    \n",
    "    return (t,q)\n",
    "    \n",
    "    \n",
    "def tdca(HC,qimax,qfmax,bmax,dmax,qimin,qfmin,bmin,dmin,qi50,qf50,b50,d50):\n",
    "    \n",
    "    tmax,qmax = dca(qimax,qfmax,bmax,dmax)\n",
    "    tmin,qmin = dca(qimin,qfmin,bmin,dmin)\n",
    "    t50,q50 = dca(qi50,qf50,b50,d50)\n",
    "    \n",
    "    Npmax = reserve(qimax,qfmax,bmax,dmax)\n",
    "    Npmin = reserve(qimin,qfmin,bmin,dmin)\n",
    "    Np50 = reserve(qi50,qf50,b50,d50)\n",
    "    \n",
    "    plt.semilogy(tmax,qmax, 'r--',tmin,qmin,'m--',t50,q50,'b-')\n",
    "    plt.gca().legend(('Max','Min','DCA Fitting'))\n",
    "    plt.xlabel('Months')\n",
    "    if HC == 'Oil':\n",
    "        \n",
    "        plt.ylabel('HC production rate [bbl/month]')\n",
    "    else:\n",
    "        plt.ylabel('HC production rate [Mscf/month]')\n",
    "        \n",
    "    plt.grid()\n",
    "    plt.show()\n",
    "    \n",
    "    if HC == 'Oil':\n",
    "    \n",
    "        s = pd.Series([Npmax, np.nan,np.nan,np.nan, Npmin], index=[0,10,50,90,100])\n",
    "        z=s.interpolate(method='index')\n",
    "        data = {'Reserve':[z[10]/1000, z[50]/1000, z[90]/1000,Np50/1000],'Units':['Mbbl','Mbbl','Mbbl','Mbbl']}\n",
    "        df = pd.DataFrame(data, index =['P10', 'P50', 'P90','DCA'])\n",
    "        \n",
    "    elif HC == 'Gas':\n",
    "        \n",
    "        s = pd.Series([Npmax, np.nan,np.nan,np.nan, Npmin], index=[0,10,50,90,100])\n",
    "        z=s.interpolate(method='index')\n",
    "        data = {'Reserve':[z[10]/1000000, z[50]/1000000, z[90]/1000000,Np50/1000000],'Units':['Bscf','Bscf','Bscf','Bscf']}\n",
    "        df = pd.DataFrame(data, index =['P10', 'P50', 'P90','DCA'])\n",
    "        \n",
    "    \n",
    "    return df\n",
    "\n"
   ]
  },
  {
   "cell_type": "code",
   "execution_count": 12,
   "metadata": {},
   "outputs": [],
   "source": [
    "# #test values\n",
    "# qimx=16935\n",
    "# qtmx=104\n",
    "# bmx=0.6\n",
    "# dmx=40\n",
    "# qimn=16935\n",
    "# qtmn=104\n",
    "# bmn=0.3\n",
    "# dmn=80\n",
    "# qifit=16935\n",
    "# qtfit=104\n",
    "# bfit=0.5\n",
    "# dfit=50\n",
    "\n",
    "\n",
    "# tdca('Oil',qimx,qtmx,bmx,dmx,qimn,qtmn,bmn,dmn,qifit,qtfit,bfit,dfit) "
   ]
  },
  {
   "cell_type": "code",
   "execution_count": 13,
   "metadata": {},
   "outputs": [],
   "source": [
    "Iqimax = BoundedFloatText(value=16935,min=0,max=1000000000,step=0.001,description='$Qi_{max}$',disabled=False)\n",
    "Iqfmax = BoundedFloatText(value=100,min=0,max=1000000000,step=0.001,description='$Qt_{max}$',disabled=False)\n",
    "Ibmax = BoundedFloatText(value=0.6,min=0.0001,max=1,step=0.0001,description='$b_{max}$',disabled=False)\n",
    "Idmax = BoundedFloatText(value=77.38697,min=0,max=99.99999,step=0.0001,description='$De_{max}$',disabled=False)\n",
    "\n",
    "Iqimin = BoundedFloatText(value=16935,min=0,max=1000000000,step=0.001,description='$Qi_{min}$',disabled=False)\n",
    "Iqfmin = BoundedFloatText(value=100,min=0,max=1000000000,step=0.001,description='$Qt_{min}$',disabled=False)\n",
    "Ibmin = BoundedFloatText(value=0.4,min=0.0001,max=1,step=0.0001,description='$b_{min}$',disabled=False)\n",
    "Idmin = BoundedFloatText(value=87.29741,min=0,max=99.99999,step=0.0001,description='$De_{min}$',disabled=False)\n",
    "\n",
    "Iqi50 = BoundedFloatText(value=16935,min=0,max=1000000000,step=0.001,description='$Qi_{fit}$',disabled=False)\n",
    "Iqf50 = BoundedFloatText(value=100,min=0,max=1000000000,step=0.001,description='$Qt_{fit}$',disabled=False)\n",
    "Ib50 = BoundedFloatText(value=0.5,min=0.0001,max=1,step=0.0001,description='$b_{fit}$',disabled=False)\n",
    "Id50 = BoundedFloatText(value=81.3626,min=0,max=99.99999,step=0.0001,description='$De_{fit}$',disabled=False)\n",
    "\n",
    "A=Dropdown(options=['Oil', 'Gas'],value='Oil',description='HC Type:',disabled=False)"
   ]
  },
  {
   "cell_type": "code",
   "execution_count": 14,
   "metadata": {},
   "outputs": [
    {
     "data": {
      "application/vnd.jupyter.widget-view+json": {
       "model_id": "07dffca54de74e45a555578fea26d969",
       "version_major": 2,
       "version_minor": 0
      },
      "text/plain": [
       "interactive(children=(Dropdown(description='HC Type:', options=('Oil', 'Gas'), value='Oil'), BoundedFloatText(…"
      ]
     },
     "metadata": {},
     "output_type": "display_data"
    }
   ],
   "source": [
    "interact (tdca,HC=A,qimax=Iqimax,qfmax=Iqfmax,\n",
    "          bmax=Ibmax,dmax=Idmax,qimin=Iqimin,\n",
    "          qfmin=Iqfmin,bmin=Ibmin,dmin=Idmin,\n",
    "          qi50=Iqi50,qf50=Iqf50,b50=Ib50,d50=Id50 );"
   ]
  },
  {
   "cell_type": "code",
   "execution_count": null,
   "metadata": {},
   "outputs": [],
   "source": []
  },
  {
   "cell_type": "code",
   "execution_count": null,
   "metadata": {},
   "outputs": [],
   "source": []
  }
 ],
 "metadata": {
  "kernelspec": {
   "display_name": "Python 3",
   "language": "python",
   "name": "python3"
  },
  "language_info": {
   "codemirror_mode": {
    "name": "ipython",
    "version": 3
   },
   "file_extension": ".py",
   "mimetype": "text/x-python",
   "name": "python",
   "nbconvert_exporter": "python",
   "pygments_lexer": "ipython3",
   "version": "3.7.3"
  }
 },
 "nbformat": 4,
 "nbformat_minor": 2
}
